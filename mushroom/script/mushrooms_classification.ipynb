{
  "nbformat": 4,
  "nbformat_minor": 0,
  "metadata": {
    "colab": {
      "provenance": [],
      "toc_visible": true
    },
    "kernelspec": {
      "name": "python3",
      "display_name": "Python 3"
    },
    "language_info": {
      "name": "python"
    }
  },
  "cells": [
    {
      "cell_type": "markdown",
      "source": [
        "#First attempt"
      ],
      "metadata": {
        "id": "8aam604dfNLx"
      }
    },
    {
      "cell_type": "markdown",
      "source": [
        "## Import the data"
      ],
      "metadata": {
        "id": "cwgcqFNcvk8E"
      }
    },
    {
      "cell_type": "code",
      "execution_count": null,
      "metadata": {
        "id": "MTsYPJOGyVd-"
      },
      "outputs": [],
      "source": [
        "import pandas as pd\n",
        "import numpy as np\n",
        "\n",
        "# reading\n",
        "url=\"https://drive.google.com/file/d/1ljJfs1Rue1PRouBeZVl3DabqWRrfI8ZL/view?usp=share_link\"\n",
        "path = 'https://drive.google.com/uc?export=download&id='+url.split('/')[-2]\n",
        "df = pd.read_csv(path)\n",
        "data=df.copy()"
      ]
    },
    {
      "cell_type": "code",
      "source": [
        "import matplotlib.pyplot as plt\n",
        "import seaborn as sns\n",
        "from sklearn.model_selection import train_test_split\n",
        "from sklearn.preprocessing import OrdinalEncoder, StandardScaler, OneHotEncoder,PolynomialFeatures\n",
        "from sklearn.tree import DecisionTreeRegressor\n",
        "from sklearn.pipeline import make_pipeline\n",
        "from sklearn.compose import ColumnTransformer\n",
        "from sklearn.impute import SimpleImputer\n",
        "from sklearn.metrics import mean_absolute_error,mean_squared_error,mean_absolute_percentage_error,r2_score\n",
        "from scipy.sparse import csr_matrix\n",
        "from scipy import sparse\n",
        "from sklearn.feature_selection import RFECV\n",
        "from sklearn.preprocessing import OneHotEncoder\n",
        "from sklearn.preprocessing import MinMaxScaler\n",
        "\n",
        "import tensorflow as tf\n",
        "from tensorflow.keras.models import Sequential\n",
        "from tensorflow.keras.layers import Dense"
      ],
      "metadata": {
        "id": "K0KkVm9dzC9H"
      },
      "execution_count": null,
      "outputs": []
    },
    {
      "cell_type": "code",
      "source": [
        "X = df.drop(columns=\"poisonous\")\n",
        "y = df[\"poisonous\"]\n",
        "\n",
        "X_train, X_test, y_train, y_test = train_test_split(X, y, test_size=0.2, random_state=123)"
      ],
      "metadata": {
        "id": "a-DUSa_HzDD3"
      },
      "execution_count": null,
      "outputs": []
    },
    {
      "cell_type": "markdown",
      "source": [
        "## Data Exploration"
      ],
      "metadata": {
        "id": "fFq3VvP7v_N1"
      }
    },
    {
      "cell_type": "code",
      "source": [
        "X_train.head()"
      ],
      "metadata": {
        "colab": {
          "base_uri": "https://localhost:8080/",
          "height": 206
        },
        "id": "55uAUODawQrj",
        "outputId": "a921e7c4-4e8c-41fb-ba2f-655c52e0ee3a"
      },
      "execution_count": null,
      "outputs": [
        {
          "output_type": "execute_result",
          "data": {
            "text/plain": [
              "     cap.shape cap.color  bruises stalk.color.above.ring  \\\n",
              "198          b         b     True                      w   \n",
              "4637         f         n     True                      p   \n",
              "3019         f         p     True                      w   \n",
              "2468         x         g    False                      w   \n",
              "6225         x         w     True                      w   \n",
              "\n",
              "     stalk.color.below.ring population    Id  \n",
              "198                       w          v  1832  \n",
              "4637                      g          y  5006  \n",
              "3019                      w          v  4040  \n",
              "2468                      w          a  5533  \n",
              "6225                      w          s  2710  "
            ],
            "text/html": [
              "\n",
              "  <div id=\"df-9c169d0b-2efd-4d36-b2f7-546b8b604267\">\n",
              "    <div class=\"colab-df-container\">\n",
              "      <div>\n",
              "<style scoped>\n",
              "    .dataframe tbody tr th:only-of-type {\n",
              "        vertical-align: middle;\n",
              "    }\n",
              "\n",
              "    .dataframe tbody tr th {\n",
              "        vertical-align: top;\n",
              "    }\n",
              "\n",
              "    .dataframe thead th {\n",
              "        text-align: right;\n",
              "    }\n",
              "</style>\n",
              "<table border=\"1\" class=\"dataframe\">\n",
              "  <thead>\n",
              "    <tr style=\"text-align: right;\">\n",
              "      <th></th>\n",
              "      <th>cap.shape</th>\n",
              "      <th>cap.color</th>\n",
              "      <th>bruises</th>\n",
              "      <th>stalk.color.above.ring</th>\n",
              "      <th>stalk.color.below.ring</th>\n",
              "      <th>population</th>\n",
              "      <th>Id</th>\n",
              "    </tr>\n",
              "  </thead>\n",
              "  <tbody>\n",
              "    <tr>\n",
              "      <th>198</th>\n",
              "      <td>b</td>\n",
              "      <td>b</td>\n",
              "      <td>True</td>\n",
              "      <td>w</td>\n",
              "      <td>w</td>\n",
              "      <td>v</td>\n",
              "      <td>1832</td>\n",
              "    </tr>\n",
              "    <tr>\n",
              "      <th>4637</th>\n",
              "      <td>f</td>\n",
              "      <td>n</td>\n",
              "      <td>True</td>\n",
              "      <td>p</td>\n",
              "      <td>g</td>\n",
              "      <td>y</td>\n",
              "      <td>5006</td>\n",
              "    </tr>\n",
              "    <tr>\n",
              "      <th>3019</th>\n",
              "      <td>f</td>\n",
              "      <td>p</td>\n",
              "      <td>True</td>\n",
              "      <td>w</td>\n",
              "      <td>w</td>\n",
              "      <td>v</td>\n",
              "      <td>4040</td>\n",
              "    </tr>\n",
              "    <tr>\n",
              "      <th>2468</th>\n",
              "      <td>x</td>\n",
              "      <td>g</td>\n",
              "      <td>False</td>\n",
              "      <td>w</td>\n",
              "      <td>w</td>\n",
              "      <td>a</td>\n",
              "      <td>5533</td>\n",
              "    </tr>\n",
              "    <tr>\n",
              "      <th>6225</th>\n",
              "      <td>x</td>\n",
              "      <td>w</td>\n",
              "      <td>True</td>\n",
              "      <td>w</td>\n",
              "      <td>w</td>\n",
              "      <td>s</td>\n",
              "      <td>2710</td>\n",
              "    </tr>\n",
              "  </tbody>\n",
              "</table>\n",
              "</div>\n",
              "      <button class=\"colab-df-convert\" onclick=\"convertToInteractive('df-9c169d0b-2efd-4d36-b2f7-546b8b604267')\"\n",
              "              title=\"Convert this dataframe to an interactive table.\"\n",
              "              style=\"display:none;\">\n",
              "        \n",
              "  <svg xmlns=\"http://www.w3.org/2000/svg\" height=\"24px\"viewBox=\"0 0 24 24\"\n",
              "       width=\"24px\">\n",
              "    <path d=\"M0 0h24v24H0V0z\" fill=\"none\"/>\n",
              "    <path d=\"M18.56 5.44l.94 2.06.94-2.06 2.06-.94-2.06-.94-.94-2.06-.94 2.06-2.06.94zm-11 1L8.5 8.5l.94-2.06 2.06-.94-2.06-.94L8.5 2.5l-.94 2.06-2.06.94zm10 10l.94 2.06.94-2.06 2.06-.94-2.06-.94-.94-2.06-.94 2.06-2.06.94z\"/><path d=\"M17.41 7.96l-1.37-1.37c-.4-.4-.92-.59-1.43-.59-.52 0-1.04.2-1.43.59L10.3 9.45l-7.72 7.72c-.78.78-.78 2.05 0 2.83L4 21.41c.39.39.9.59 1.41.59.51 0 1.02-.2 1.41-.59l7.78-7.78 2.81-2.81c.8-.78.8-2.07 0-2.86zM5.41 20L4 18.59l7.72-7.72 1.47 1.35L5.41 20z\"/>\n",
              "  </svg>\n",
              "      </button>\n",
              "      \n",
              "  <style>\n",
              "    .colab-df-container {\n",
              "      display:flex;\n",
              "      flex-wrap:wrap;\n",
              "      gap: 12px;\n",
              "    }\n",
              "\n",
              "    .colab-df-convert {\n",
              "      background-color: #E8F0FE;\n",
              "      border: none;\n",
              "      border-radius: 50%;\n",
              "      cursor: pointer;\n",
              "      display: none;\n",
              "      fill: #1967D2;\n",
              "      height: 32px;\n",
              "      padding: 0 0 0 0;\n",
              "      width: 32px;\n",
              "    }\n",
              "\n",
              "    .colab-df-convert:hover {\n",
              "      background-color: #E2EBFA;\n",
              "      box-shadow: 0px 1px 2px rgba(60, 64, 67, 0.3), 0px 1px 3px 1px rgba(60, 64, 67, 0.15);\n",
              "      fill: #174EA6;\n",
              "    }\n",
              "\n",
              "    [theme=dark] .colab-df-convert {\n",
              "      background-color: #3B4455;\n",
              "      fill: #D2E3FC;\n",
              "    }\n",
              "\n",
              "    [theme=dark] .colab-df-convert:hover {\n",
              "      background-color: #434B5C;\n",
              "      box-shadow: 0px 1px 3px 1px rgba(0, 0, 0, 0.15);\n",
              "      filter: drop-shadow(0px 1px 2px rgba(0, 0, 0, 0.3));\n",
              "      fill: #FFFFFF;\n",
              "    }\n",
              "  </style>\n",
              "\n",
              "      <script>\n",
              "        const buttonEl =\n",
              "          document.querySelector('#df-9c169d0b-2efd-4d36-b2f7-546b8b604267 button.colab-df-convert');\n",
              "        buttonEl.style.display =\n",
              "          google.colab.kernel.accessAllowed ? 'block' : 'none';\n",
              "\n",
              "        async function convertToInteractive(key) {\n",
              "          const element = document.querySelector('#df-9c169d0b-2efd-4d36-b2f7-546b8b604267');\n",
              "          const dataTable =\n",
              "            await google.colab.kernel.invokeFunction('convertToInteractive',\n",
              "                                                     [key], {});\n",
              "          if (!dataTable) return;\n",
              "\n",
              "          const docLinkHtml = 'Like what you see? Visit the ' +\n",
              "            '<a target=\"_blank\" href=https://colab.research.google.com/notebooks/data_table.ipynb>data table notebook</a>'\n",
              "            + ' to learn more about interactive tables.';\n",
              "          element.innerHTML = '';\n",
              "          dataTable['output_type'] = 'display_data';\n",
              "          await google.colab.output.renderOutput(dataTable, element);\n",
              "          const docLink = document.createElement('div');\n",
              "          docLink.innerHTML = docLinkHtml;\n",
              "          element.appendChild(docLink);\n",
              "        }\n",
              "      </script>\n",
              "    </div>\n",
              "  </div>\n",
              "  "
            ]
          },
          "metadata": {},
          "execution_count": 38
        }
      ]
    },
    {
      "cell_type": "code",
      "source": [
        "X_train.info() "
      ],
      "metadata": {
        "colab": {
          "base_uri": "https://localhost:8080/"
        },
        "id": "jXnY0HXgwHQu",
        "outputId": "7595b149-c050-49c1-aa5e-17cb3306f2b1"
      },
      "execution_count": null,
      "outputs": [
        {
          "output_type": "stream",
          "name": "stdout",
          "text": [
            "<class 'pandas.core.frame.DataFrame'>\n",
            "Int64Index: 5199 entries, 198 to 3582\n",
            "Data columns (total 7 columns):\n",
            " #   Column                  Non-Null Count  Dtype \n",
            "---  ------                  --------------  ----- \n",
            " 0   cap.shape               5199 non-null   object\n",
            " 1   cap.color               5199 non-null   object\n",
            " 2   bruises                 5199 non-null   bool  \n",
            " 3   stalk.color.above.ring  5199 non-null   object\n",
            " 4   stalk.color.below.ring  5199 non-null   object\n",
            " 5   population              5199 non-null   object\n",
            " 6   Id                      5199 non-null   int64 \n",
            "dtypes: bool(1), int64(1), object(5)\n",
            "memory usage: 289.4+ KB\n"
          ]
        }
      ]
    },
    {
      "cell_type": "markdown",
      "source": [
        "The only numeric columnn of our train set is \"Id\". Our column trandformer below will ignore it."
      ],
      "metadata": {
        "id": "l1A_1xIByWTk"
      }
    },
    {
      "cell_type": "markdown",
      "source": [
        "## Preprocessing the data"
      ],
      "metadata": {
        "id": "Ldbad4LI1Yig"
      }
    },
    {
      "cell_type": "code",
      "source": [
        "cat_col=X_train.select_dtypes(exclude = 'number').copy().columns # Extracting the names of columns\n",
        "categoric_pipe = make_pipeline(\n",
        "    SimpleImputer(strategy=\"constant\", fill_value=\"N_A\"),       # Our data set X_train has no missing value, but it might not be the case for  X_test\n",
        "    OneHotEncoder(handle_unknown=\"ignore\")\n",
        ")  \n",
        "\n",
        "numeric_pipe = make_pipeline(                                 #useful if we have meaningful nuemric columns\n",
        "    SimpleImputer(strategy=\"mean\"))\n",
        "\n",
        "preprocessor = ColumnTransformer(transformers=[\n",
        "    ('category', categoric_pipe, cat_col)\n",
        "    #('number', numeric_pipe, num_col) # We ignore the numeric column\n",
        "])\n",
        "\n",
        "dt_pipeline = make_pipeline(preprocessor, \n",
        "                            #StandardScaler(with_mean=False) # no need to scale the onHotEncoded data\n",
        "                           )"
      ],
      "metadata": {
        "id": "FuPRShDTzDra"
      },
      "execution_count": null,
      "outputs": []
    },
    {
      "cell_type": "code",
      "source": [
        "X_train_encoded=dt_pipeline.fit_transform(X_train)\n",
        "X_train_encoded=pd.DataFrame(X_train_encoded.todense())\n",
        "\n",
        "\n",
        "X_test_encoded=dt_pipeline.transform(X_test)\n",
        "X_test_encoded=pd.DataFrame(X_test_encoded.todense())"
      ],
      "metadata": {
        "id": "hWphXaoqzDt_"
      },
      "execution_count": null,
      "outputs": []
    },
    {
      "cell_type": "markdown",
      "source": [
        "## Neural network with 5 layers:\n",
        "We have a binary classification problem, and therefore set the last activation to be the sigmoid function $f(x)=\\frac{1}{1+\\exp(-x)}$."
      ],
      "metadata": {
        "id": "mll5wRTI1nOf"
      }
    },
    {
      "cell_type": "code",
      "source": [
        "model = Sequential(\n",
        "    [\n",
        "        tf.keras.Input(shape=(42,)),\n",
        "        Dense(units=30, activation='linear', name = 'layer1'),\n",
        "        Dense(20, activation='relu', name = 'layer2'),\n",
        "        Dense(5, activation='relu', name = 'layer3'),\n",
        "        Dense(3, activation='linear', name = 'layer4'),\n",
        "        Dense(1, activation='sigmoid', name = 'layer5')\n",
        "     ]\n",
        ")"
      ],
      "metadata": {
        "id": "FuwoJotezDws"
      },
      "execution_count": null,
      "outputs": []
    },
    {
      "cell_type": "code",
      "source": [
        "model.summary()"
      ],
      "metadata": {
        "colab": {
          "base_uri": "https://localhost:8080/"
        },
        "id": "jchRcyuSzR5g",
        "outputId": "c9bed7be-e10f-4648-9722-07f698dd7dfe"
      },
      "execution_count": null,
      "outputs": [
        {
          "output_type": "stream",
          "name": "stdout",
          "text": [
            "Model: \"sequential\"\n",
            "_________________________________________________________________\n",
            " Layer (type)                Output Shape              Param #   \n",
            "=================================================================\n",
            " layer1 (Dense)              (None, 30)                1290      \n",
            "                                                                 \n",
            " layer2 (Dense)              (None, 20)                620       \n",
            "                                                                 \n",
            " layer3 (Dense)              (None, 5)                 105       \n",
            "                                                                 \n",
            " layer4 (Dense)              (None, 3)                 18        \n",
            "                                                                 \n",
            " layer5 (Dense)              (None, 1)                 4         \n",
            "                                                                 \n",
            "=================================================================\n",
            "Total params: 2,037\n",
            "Trainable params: 2,037\n",
            "Non-trainable params: 0\n",
            "_________________________________________________________________\n"
          ]
        }
      ]
    },
    {
      "cell_type": "markdown",
      "source": [
        "The binary cross entropy loss function $-y\\log(\\hat{y} )-(1-y)\\log(1-\\hat{y})$ works pretty well with binary classification problems. The optimizer Adam is faster."
      ],
      "metadata": {
        "id": "KTSVsVto33WJ"
      }
    },
    {
      "cell_type": "code",
      "source": [
        "model.compile(                                          #compiling the model\n",
        "    loss = tf.keras.losses.BinaryCrossentropy(),\n",
        "    optimizer = tf.keras.optimizers.Adam(learning_rate=0.01),\n",
        ")\n",
        "\n",
        "model.fit(                                              #fitting the model\n",
        "    X_train_encoded,y_train,                            \n",
        "    epochs=60,\n",
        ")"
      ],
      "metadata": {
        "colab": {
          "base_uri": "https://localhost:8080/"
        },
        "id": "TkldJDbQzR9V",
        "outputId": "c4be42cd-fb74-4c88-8b4e-0e0b60f34c5e"
      },
      "execution_count": null,
      "outputs": [
        {
          "output_type": "stream",
          "name": "stdout",
          "text": [
            "Epoch 1/60\n",
            "163/163 [==============================] - 3s 6ms/step - loss: 0.1979\n",
            "Epoch 2/60\n",
            "163/163 [==============================] - 1s 5ms/step - loss: 0.1202\n",
            "Epoch 3/60\n",
            "163/163 [==============================] - 1s 4ms/step - loss: 0.1050\n",
            "Epoch 4/60\n",
            "163/163 [==============================] - 1s 4ms/step - loss: 0.1002\n",
            "Epoch 5/60\n",
            "163/163 [==============================] - 1s 4ms/step - loss: 0.0950\n",
            "Epoch 6/60\n",
            "163/163 [==============================] - 1s 4ms/step - loss: 0.0962\n",
            "Epoch 7/60\n",
            "163/163 [==============================] - 1s 4ms/step - loss: 0.0925\n",
            "Epoch 8/60\n",
            "163/163 [==============================] - 1s 4ms/step - loss: 0.1004\n",
            "Epoch 9/60\n",
            "163/163 [==============================] - 1s 4ms/step - loss: 0.0918\n",
            "Epoch 10/60\n",
            "163/163 [==============================] - 1s 4ms/step - loss: 0.0890\n",
            "Epoch 11/60\n",
            "163/163 [==============================] - 1s 4ms/step - loss: 0.0966\n",
            "Epoch 12/60\n",
            "163/163 [==============================] - 1s 4ms/step - loss: 0.0881\n",
            "Epoch 13/60\n",
            "163/163 [==============================] - 1s 4ms/step - loss: 0.0889\n",
            "Epoch 14/60\n",
            "163/163 [==============================] - 1s 4ms/step - loss: 0.0879\n",
            "Epoch 15/60\n",
            "163/163 [==============================] - 1s 4ms/step - loss: 0.0850\n",
            "Epoch 16/60\n",
            "163/163 [==============================] - 1s 4ms/step - loss: 0.0909\n",
            "Epoch 17/60\n",
            "163/163 [==============================] - 1s 4ms/step - loss: 0.0849\n",
            "Epoch 18/60\n",
            "163/163 [==============================] - 1s 4ms/step - loss: 0.0966\n",
            "Epoch 19/60\n",
            "163/163 [==============================] - 1s 4ms/step - loss: 0.0876\n",
            "Epoch 20/60\n",
            "163/163 [==============================] - 1s 5ms/step - loss: 0.0889\n",
            "Epoch 21/60\n",
            "163/163 [==============================] - 1s 4ms/step - loss: 0.0859\n",
            "Epoch 22/60\n",
            "163/163 [==============================] - 1s 4ms/step - loss: 0.0855\n",
            "Epoch 23/60\n",
            "163/163 [==============================] - 1s 4ms/step - loss: 0.0868\n",
            "Epoch 24/60\n",
            "163/163 [==============================] - 1s 4ms/step - loss: 0.0852\n",
            "Epoch 25/60\n",
            "163/163 [==============================] - 1s 3ms/step - loss: 0.0839\n",
            "Epoch 26/60\n",
            "163/163 [==============================] - 1s 4ms/step - loss: 0.0831\n",
            "Epoch 27/60\n",
            "163/163 [==============================] - 1s 4ms/step - loss: 0.0854\n",
            "Epoch 28/60\n",
            "163/163 [==============================] - 1s 4ms/step - loss: 0.0839\n",
            "Epoch 29/60\n",
            "163/163 [==============================] - 1s 4ms/step - loss: 0.0846\n",
            "Epoch 30/60\n",
            "163/163 [==============================] - 1s 4ms/step - loss: 0.0859\n",
            "Epoch 31/60\n",
            "163/163 [==============================] - 1s 4ms/step - loss: 0.0845\n",
            "Epoch 32/60\n",
            "163/163 [==============================] - 1s 3ms/step - loss: 0.0993\n",
            "Epoch 33/60\n",
            "163/163 [==============================] - 1s 6ms/step - loss: 0.0835\n",
            "Epoch 34/60\n",
            "163/163 [==============================] - 1s 4ms/step - loss: 0.0829\n",
            "Epoch 35/60\n",
            "163/163 [==============================] - 1s 4ms/step - loss: 0.0831\n",
            "Epoch 36/60\n",
            "163/163 [==============================] - 1s 5ms/step - loss: 0.0815\n",
            "Epoch 37/60\n",
            "163/163 [==============================] - 1s 5ms/step - loss: 0.0848\n",
            "Epoch 38/60\n",
            "163/163 [==============================] - 0s 2ms/step - loss: 0.0827\n",
            "Epoch 39/60\n",
            "163/163 [==============================] - 0s 2ms/step - loss: 0.0820\n",
            "Epoch 40/60\n",
            "163/163 [==============================] - 0s 2ms/step - loss: 0.0822\n",
            "Epoch 41/60\n",
            "163/163 [==============================] - 0s 2ms/step - loss: 0.0854\n",
            "Epoch 42/60\n",
            "163/163 [==============================] - 0s 2ms/step - loss: 0.0825\n",
            "Epoch 43/60\n",
            "163/163 [==============================] - 0s 2ms/step - loss: 0.0832\n",
            "Epoch 44/60\n",
            "163/163 [==============================] - 0s 2ms/step - loss: 0.0969\n",
            "Epoch 45/60\n",
            "163/163 [==============================] - 0s 2ms/step - loss: 0.1009\n",
            "Epoch 46/60\n",
            "163/163 [==============================] - 0s 2ms/step - loss: 0.0888\n",
            "Epoch 47/60\n",
            "163/163 [==============================] - 0s 2ms/step - loss: 0.0850\n",
            "Epoch 48/60\n",
            "163/163 [==============================] - 0s 2ms/step - loss: 0.0829\n",
            "Epoch 49/60\n",
            "163/163 [==============================] - 0s 2ms/step - loss: 0.0819\n",
            "Epoch 50/60\n",
            "163/163 [==============================] - 0s 2ms/step - loss: 0.0831\n",
            "Epoch 51/60\n",
            "163/163 [==============================] - 0s 2ms/step - loss: 0.0820\n",
            "Epoch 52/60\n",
            "163/163 [==============================] - 0s 2ms/step - loss: 0.0839\n",
            "Epoch 53/60\n",
            "163/163 [==============================] - 0s 2ms/step - loss: 0.0836\n",
            "Epoch 54/60\n",
            "163/163 [==============================] - 0s 2ms/step - loss: 0.0862\n",
            "Epoch 55/60\n",
            "163/163 [==============================] - 0s 2ms/step - loss: 0.0830\n",
            "Epoch 56/60\n",
            "163/163 [==============================] - 0s 2ms/step - loss: 0.0827\n",
            "Epoch 57/60\n",
            "163/163 [==============================] - 0s 2ms/step - loss: 0.0815\n",
            "Epoch 58/60\n",
            "163/163 [==============================] - 0s 2ms/step - loss: 0.0828\n",
            "Epoch 59/60\n",
            "163/163 [==============================] - 1s 4ms/step - loss: 0.0834\n",
            "Epoch 60/60\n",
            "163/163 [==============================] - 1s 6ms/step - loss: 0.0829\n"
          ]
        },
        {
          "output_type": "execute_result",
          "data": {
            "text/plain": [
              "<keras.callbacks.History at 0x7f4a529d3280>"
            ]
          },
          "metadata": {},
          "execution_count": 8
        }
      ]
    },
    {
      "cell_type": "markdown",
      "source": [
        "##Predictions of the model\n",
        "The model is now ready to make predictions. "
      ],
      "metadata": {
        "id": "pvA7nxxw8dPC"
      }
    },
    {
      "cell_type": "code",
      "source": [
        "predictions_train_set = model.predict(X_train_encoded)    #predictions for the train set\n",
        "predictions_test_set = model.predict(X_test_encoded)      #prediction for the test set"
      ],
      "metadata": {
        "colab": {
          "base_uri": "https://localhost:8080/"
        },
        "id": "prS_3my4zSBh",
        "outputId": "6edb853e-5a2b-4873-b2ab-2f5ca4f26fef"
      },
      "execution_count": null,
      "outputs": [
        {
          "output_type": "stream",
          "name": "stdout",
          "text": [
            "163/163 [==============================] - 0s 1ms/step\n",
            "41/41 [==============================] - 0s 1ms/step\n"
          ]
        }
      ]
    },
    {
      "cell_type": "markdown",
      "source": [
        "Recall that the output of our model is a vector of real numbers, each representing the probability that a given mushroom (describe by the correcponding row in the data set) is poisonous. We set our decisive treshold to be equal to $0.25$: We classify a mushroom as poisonous if, and only if our model predicts that its probability to be poisonous is strictly greater than $0.25$. "
      ],
      "metadata": {
        "id": "MnGJ2PYn97Ov"
      }
    },
    {
      "cell_type": "code",
      "source": [
        "treshold=0.25\n",
        "yhat_train=list((pd.DataFrame(predictions_train_set).iloc[:,0]>treshold).astype(int))\n",
        "yhat_test=list((pd.DataFrame(predictions_test_set).iloc[:,0]>treshold).astype(int))"
      ],
      "metadata": {
        "id": "FbKC8mUtdgRW"
      },
      "execution_count": null,
      "outputs": []
    },
    {
      "cell_type": "markdown",
      "source": [
        "Overview of the predictions."
      ],
      "metadata": {
        "id": "9jQenj9Z-cB8"
      }
    },
    {
      "cell_type": "code",
      "source": [
        "[(yhat_test[i],list(y_test)[i]) for i in range(20)]"
      ],
      "metadata": {
        "colab": {
          "base_uri": "https://localhost:8080/"
        },
        "id": "3NK-npIC-p8x",
        "outputId": "ccfa3037-4f19-4b81-ef2f-d1baca806f2f"
      },
      "execution_count": null,
      "outputs": [
        {
          "output_type": "execute_result",
          "data": {
            "text/plain": [
              "[(1, 1),\n",
              " (0, 0),\n",
              " (0, 0),\n",
              " (1, 1),\n",
              " (1, 1),\n",
              " (0, 0),\n",
              " (0, 0),\n",
              " (0, 0),\n",
              " (1, 1),\n",
              " (1, 1),\n",
              " (1, 1),\n",
              " (1, 1),\n",
              " (0, 0),\n",
              " (0, 0),\n",
              " (0, 0),\n",
              " (0, 0),\n",
              " (0, 0),\n",
              " (0, 0),\n",
              " (0, 0),\n",
              " (1, 1)]"
            ]
          },
          "metadata": {},
          "execution_count": 59
        }
      ]
    },
    {
      "cell_type": "markdown",
      "source": [
        "## Model performence\n",
        "\n",
        "We use the confusion matrix to evaluate the performence of our model. We compute: \n",
        "- $tn$: The number of true negatives. It corresponds to the number of eatable mushrooms that our model accurately classified.\n",
        "- $fp$: The number of false positives. It corresponds to the number of eatable mushrooms that our model missclassified.\n",
        "- $fn$: The number of false negatives. It corresponds to the number of poisonous mushrooms that our model missclassified.\n",
        "- $tp$: The number of true positives. It corresponds to the number of poisonous mushrooms that our model accurately classified."
      ],
      "metadata": {
        "id": "qcNtqq43_bxe"
      }
    },
    {
      "cell_type": "code",
      "source": [
        "from sklearn.metrics import confusion_matrix\n",
        "#confusion_matrix(list(y_test),list(yhat_test))\n",
        "tn, fp, fn, tp = confusion_matrix(list(y_test),list(yhat_test)).ravel()\n",
        "tn, fp, fn, tp"
      ],
      "metadata": {
        "colab": {
          "base_uri": "https://localhost:8080/"
        },
        "id": "UGsK8ha9dhDS",
        "outputId": "6ad178e6-d128-4b65-9e4e-9aab9e6fa7fe"
      },
      "execution_count": null,
      "outputs": [
        {
          "output_type": "execute_result",
          "data": {
            "text/plain": [
              "(601, 70, 0, 629)"
            ]
          },
          "metadata": {},
          "execution_count": 58
        }
      ]
    },
    {
      "cell_type": "code",
      "source": [
        "#doind the task above manually\n",
        "tp_test=sum([list(yhat_test)[i]*list(y_test)[i] for i in range(len(y_test))])\n",
        "fp_test=sum([yhat_test[i]*(1-list(y_test)[i]) for i in range(len(y_test))])\n",
        "tn_test=sum([(1-yhat_test[i])*(1-list(y_test)[i]) for i in range(len(y_test))])\n",
        "fn_test=sum([(1-yhat_test[i])*list(y_test)[i] for i in range(len(y_test))])\n",
        "tn_test,fp_test,fn_test,tp_test\n"
      ],
      "metadata": {
        "colab": {
          "base_uri": "https://localhost:8080/"
        },
        "id": "_CWNJuMvEaGB",
        "outputId": "5611cca1-c7e1-4a3c-d9b4-da494b19b16b"
      },
      "execution_count": null,
      "outputs": [
        {
          "output_type": "execute_result",
          "data": {
            "text/plain": [
              "(601, 70, 0, 629)"
            ]
          },
          "metadata": {},
          "execution_count": 26
        }
      ]
    },
    {
      "cell_type": "code",
      "source": [
        "# reading\n",
        "url=\"https://drive.google.com/file/d/1rHAgVfd7vtZv3bj4Fb0MqS5PcRwOLC5I/view?usp=share_link\"\n",
        "path = 'https://drive.google.com/uc?export=download&id='+url.split('/')[-2]\n",
        "df_testing = pd.read_csv(path)\n",
        "\n",
        "data_testing=df_testing.copy()\n",
        "\n",
        "X_testing_encoded=dt_pipeline.transform(data_testing)\n",
        "X_testing_encoded=pd.DataFrame(X_testing_encoded.todense())\n",
        "predictions_testing = model.predict(X_testing_encoded)\n",
        "yhat_testing=list((pd.DataFrame(predictions_testing).iloc[:,0]>treshold).astype(int))"
      ],
      "metadata": {
        "colab": {
          "base_uri": "https://localhost:8080/"
        },
        "id": "zQwet_bGX4if",
        "outputId": "279c23c6-89ab-4484-ad49-a0ab35a261bd"
      },
      "execution_count": null,
      "outputs": [
        {
          "output_type": "stream",
          "name": "stdout",
          "text": [
            "51/51 [==============================] - 0s 1ms/step\n"
          ]
        }
      ]
    },
    {
      "cell_type": "code",
      "source": [
        "data_testing[\"poisonous\"]=yhat_testing\n",
        "result=data_testing[[\"Id\",\"poisonous\"]]\n",
        "result.to_csv(\"attemp_2_Gauss.csv\",index=False)\n"
      ],
      "metadata": {
        "id": "d0JHMxSh2ueB"
      },
      "execution_count": null,
      "outputs": []
    }
  ]
}